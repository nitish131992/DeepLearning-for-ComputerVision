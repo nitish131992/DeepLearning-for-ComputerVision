{
 "cells": [
  {
   "cell_type": "markdown",
   "metadata": {},
   "source": [
    "## Populpar Datasets for Image Classification "
   ]
  },
  {
   "cell_type": "markdown",
   "metadata": {},
   "source": [
    "### Topics\n",
    " * MNIST\n",
    " * CIFAR - 10\n",
    " * SMILES\n",
    " * Kaggle: Dogs vs. Cats\n",
    " * Flowers-17\n",
    " * CALTECH-101\n",
    " * Tiny ImageNet 200\n",
    " * Adience\n",
    " * ImageNet\n",
    " * Kaggle: Facial Expression Recognition Challenge\n",
    " * Indoor CVPR\n",
    " * Stanford Cars"
   ]
  }
 ],
 "metadata": {
  "kernelspec": {
   "display_name": "Python 3",
   "language": "python",
   "name": "python3"
  },
  "language_info": {
   "codemirror_mode": {
    "name": "ipython",
    "version": 3
   },
   "file_extension": ".py",
   "mimetype": "text/x-python",
   "name": "python",
   "nbconvert_exporter": "python",
   "pygments_lexer": "ipython3",
   "version": "3.7.1"
  }
 },
 "nbformat": 4,
 "nbformat_minor": 2
}
