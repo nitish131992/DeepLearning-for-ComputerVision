{
 "cells": [
  {
   "cell_type": "markdown",
   "metadata": {},
   "source": [
    "### Topic\n",
    "\n",
    "* Parameterized Learning\n",
    "\n",
    "\n",
    "* Components of parameterized learning\n",
    " 1. Data\n",
    " 2. Scoring function\n",
    " 3. Loss function\n",
    " 4. Weights and biases\n",
    "\n",
    "\n",
    "* Role of Loss Function\n",
    "    1. Loss Function\n",
    "    2. Cross Entropy Loss and SoftMax Classifier\n",
    "    3. Otimization Method"
   ]
  }
 ],
 "metadata": {
  "kernelspec": {
   "display_name": "Python 3",
   "language": "python",
   "name": "python3"
  },
  "language_info": {
   "codemirror_mode": {
    "name": "ipython",
    "version": 3
   },
   "file_extension": ".py",
   "mimetype": "text/x-python",
   "name": "python",
   "nbconvert_exporter": "python",
   "pygments_lexer": "ipython3",
   "version": "3.7.1"
  }
 },
 "nbformat": 4,
 "nbformat_minor": 2
}
